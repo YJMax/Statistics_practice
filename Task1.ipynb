{
 "cells": [
  {
   "cell_type": "markdown",
   "metadata": {},
   "source": [
    "# Task 1 笔记"
   ]
  },
  {
   "cell_type": "markdown",
   "metadata": {},
   "source": [
    "## day 1"
   ]
  },
  {
   "cell_type": "markdown",
   "metadata": {},
   "source": [
    "* 总体 （population）：欲研究的所有对象,$(x_1,x_2,...,x_N)$\n",
    "* 样本 （sample）：从总体中，随机地抽取、能代表总体规律的若干个体, 样本集合$(x_1,x_2,...,x_n)$ 为总体一部分  \n",
    "* 符号简写: \n",
    "population mean :$$\\mu\\subset (\\sum_{i=1}^Nx_i)/N$$  \n",
    "sample mean: $$\\overline X\\subset  (\\sum_{i=1}^nx_i)/n$$  \n",
    "* 方差 (variance)：分为总体偏差（ $\\sigma^2$ ）和样本偏差（ $S^2$ ）  \n",
    "$$\\sigma^2=\\displaystyle\\frac{\\sum_{i=1}^N（x_i-\\mu)^2}{N}$$  \n",
    "$$S^2=\\displaystyle\\frac{\\sum_{i=1}^n（x_i-\\overline X)^2}{n-1}$$  \n",
    "* 标准差 （standard deviation）：同样分为总体和样本。优点单位和统计量一致  \n",
    "$$\\sigma=\\sqrt{sigma}$$\n",
    "$$S=\\sqrt{S^2}$$\n",
    "* 随机变量（random variable）:不同传统意义上地变量，而更像是从随机过程映射到数值的函数，常用大写字母表示。例如，  \n",
    "$$ S= \\displaystyle\\begin{cases} 1, & \\text {如果明天下雨} \\\\ 0, & \\text{如果明天不下雨} \\end{cases} $$  \n",
    "随机变量分为离散随机变量（上述例子）和连续随机变量（X为明天降雨的英寸数）  \n",
    "随机变量在概率分布计算中又重要作用\n",
    "* 概率密度函数：实质即使随机变量的概率分布  \n",
    "对于离散随机变量，有P（X=2）；而对于连续随机变量，只有P（|X-2|<0.1）;因为连续随机变量的概率密度函数精确定位到某一特定值的概率接近于0  \n",
    "所有可能随机变量的概率之和为1  \n",
    "* 二项分布：离散随机变量$\\implies$**二项分布**；连续随机变量$\\implies$**正态分布**  \n",
    "抛硬币问题：抛N=5次硬币，k次为正面的概率为$$P(X=k)= \\frac{5!}{k!(5-k)!}*\\frac{1}{2^5}$$\n",
    "投篮问题：投篮次数N=6，每次投篮投中概率30%，k次投中的概率为$$P(X=k)= \\frac{6!}{k!(6-k)!}*0.7^{(6-k)}*0.3^k$$  \n",
    "**总结**: 二项分布的概率目的函数：$$P（X=k）=\\frac{N!}{k!(N-k)!}*(1-\\pi)^{(N-k)}*\\pi^k=C{^k_N}*(1-\\pi)^{(N-k)}*\\pi^k$$ \n",
    "* 期望值$E(X)$:试验中每次可能的结果乘以其结果概率的总和,$$E(X)=\\sum_{i=1}^N{P(X=x_i)*x_i}$$  \n",
    "$N$为试验次数，$x_i$为单次试验结果  \n",
    "* 泊松过程：来自于二项分布，具体来说，是将其离散区间数量推广至无穷。公式如下，$$P(X=k)=\\lim_{N \\to \\infty} C{^k_N}*(1-\\pi)^{(N-k)}*\\pi^k=\\frac{\\lambda^k}{K!}*e^{-\\lambda}$$  \n",
    "其中，关键参数$$\\lambda=E(X)$$"
   ]
  },
  {
   "cell_type": "markdown",
   "metadata": {},
   "source": [
    "## day 2"
   ]
  },
  {
   "cell_type": "markdown",
   "metadata": {},
   "source": [
    "* 大数定律:观测样本数量越大，样本均质越趋近于期望值和整体均值。  \n",
    "* 正态分布：统计学上最重要的一个种概率分布。若随机变量${\\displaystyle X}$服从一个位置参数为${\\displaystyle \\mu }$、尺度参数为${\\displaystyle \\sigma } $的正态分布，记为：$$ X\\sim N（\\mu,\\sigma^2）$$  \n",
    "概率密度函数为$$p(x)={\\frac{1}{\\sigma\\sqrt{2\\pi}}*e^{-\\frac{(x-\\mu)^2}{2\\sigma ^2}}}$$  \n",
    "随着观测样本的增大，二项分布与正态分布的概率密度函数越来越重合\n",
    "* 标准正态分布：${\\mu = 0 }$，${\\sigma =1 } $的正态分布\n",
    "* 均值${\\displaystyle \\mu }$决定了分布函数的中线，标准差${\\displaystyle \\sigma } $决定了分布函数的宽度，${\\displaystyle \\sigma } $越大，分布函数越扁平。\n",
    "* 经验法则，又称为68-95-99.7法则：函数曲线下68.27%的面积在平均数左右的一个标准差范围内；95.45%的面积在平均数左右两个标准差的范围内；99.73%的面积在平均数左右三个标准差的范围内\n",
    "* 累积分布函数$CDF$指随机变量${\\displaystyle X}$小于或等 ${\\displaystyle x}$的概率  \n",
    "* Z分数：评价样本距离均值有多少个标准差距离  \n",
    "\n"
   ]
  }
 ],
 "metadata": {
  "kernelspec": {
   "display_name": "Python 3",
   "language": "python",
   "name": "python3"
  },
  "language_info": {
   "codemirror_mode": {
    "name": "ipython",
    "version": 3
   },
   "file_extension": ".py",
   "mimetype": "text/x-python",
   "name": "python",
   "nbconvert_exporter": "python",
   "pygments_lexer": "ipython3",
   "version": "3.7.3"
  },
  "varInspector": {
   "cols": {
    "lenName": 16,
    "lenType": 16,
    "lenVar": 40
   },
   "kernels_config": {
    "python": {
     "delete_cmd_postfix": "",
     "delete_cmd_prefix": "del ",
     "library": "var_list.py",
     "varRefreshCmd": "print(var_dic_list())"
    },
    "r": {
     "delete_cmd_postfix": ") ",
     "delete_cmd_prefix": "rm(",
     "library": "var_list.r",
     "varRefreshCmd": "cat(var_dic_list()) "
    }
   },
   "types_to_exclude": [
    "module",
    "function",
    "builtin_function_or_method",
    "instance",
    "_Feature"
   ],
   "window_display": false
  }
 },
 "nbformat": 4,
 "nbformat_minor": 2
}
