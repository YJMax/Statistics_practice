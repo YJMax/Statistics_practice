{
 "cells": [
  {
   "cell_type": "markdown",
   "metadata": {},
   "source": [
    "# Task 2 笔记"
   ]
  },
  {
   "cell_type": "markdown",
   "metadata": {},
   "source": [
    "## day 3"
   ]
  },
  {
   "cell_type": "markdown",
   "metadata": {},
   "source": [
    "* 中心极限定理：中心极限定理说明，在适当的条件下，大量相互独立随机变量的均值经适当标准化后依分布收敛于正态分布。这组定理是数理统计学和误差分析的理论基础，指出了大量随机变量之和近似服从正态分布的条件。 \n",
    "* 样本均值的抽样分布。总体分布（实际分布）和采样分布（重构分布）的联系和区别\n",
    "* 偏度（skewness），统计数据分布偏斜方向和程度的度量，是统计数据分布非对称程度的数字特征。定义上偏度是样本的三阶标准化矩。  \n",
    "* 峰度（kurtosis），表征概率密度分布曲线在平均值处峰值高低的特征数。直观看来，峰度反映了峰部的尖度。随机变量的峰度计算方法为：随机变量的四阶中心矩与方差平方的比值。  \n",
    "* 单次取样样本容量对于重构分布形态影响巨大。单次取样容量越大，在相同取样次数后，重构分布更接近正态分布，同时，标准差越小，均值越接近原始分布均值。经过足够数量次取样后(足够次独立试验)，抽样分布方差等于总体方差（近似于样本方差）除以容量。$$ {\\sigma}_{\\overline X}^2 = \\frac{{\\sigma}^2}{n}$$  \n",
    "${\\sigma}^2$为原始方差，${\\sigma}_{\\overline X}^2$为重构分布方差，$n$为样本容量（单次试验）  \n",
    "* 伯努利分布，又名两点分布或者0-1分布。若伯努利试验成功，则伯努利随机变量取值为1。若伯努利试验失败，则伯努利随机变量取值为0。记其成功概率为 $ p(0<p<1)$ ，失败概率为 $q=1-p$. 伯努利分布的期望值为 $p$，方差为$pq$  \n",
    "* 对于小样本容量抽样，使用t分布假设代替正态分布假设\n"
   ]
  },
  {
   "cell_type": "code",
   "execution_count": null,
   "metadata": {},
   "outputs": [],
   "source": []
  }
 ],
 "metadata": {
  "kernelspec": {
   "display_name": "Python 3",
   "language": "python",
   "name": "python3"
  },
  "language_info": {
   "codemirror_mode": {
    "name": "ipython",
    "version": 3
   },
   "file_extension": ".py",
   "mimetype": "text/x-python",
   "name": "python",
   "nbconvert_exporter": "python",
   "pygments_lexer": "ipython3",
   "version": "3.7.3"
  },
  "varInspector": {
   "cols": {
    "lenName": 16,
    "lenType": 16,
    "lenVar": 40
   },
   "kernels_config": {
    "python": {
     "delete_cmd_postfix": "",
     "delete_cmd_prefix": "del ",
     "library": "var_list.py",
     "varRefreshCmd": "print(var_dic_list())"
    },
    "r": {
     "delete_cmd_postfix": ") ",
     "delete_cmd_prefix": "rm(",
     "library": "var_list.r",
     "varRefreshCmd": "cat(var_dic_list()) "
    }
   },
   "types_to_exclude": [
    "module",
    "function",
    "builtin_function_or_method",
    "instance",
    "_Feature"
   ],
   "window_display": false
  }
 },
 "nbformat": 4,
 "nbformat_minor": 2
}
