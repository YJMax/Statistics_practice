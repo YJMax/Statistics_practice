{
 "cells": [
  {
   "cell_type": "markdown",
   "metadata": {},
   "source": [
    "* 假设检验：  \n",
    "*零假设与备选假设*:在相关性检验中，一般会取“两者之间无关联”作为零假设，而在独立性检验中，一般会取“两者之间非独立”作为零假设。与零假设相对的是备择假设。   \n",
    "*P-value*：零假设成功的概率。若计算出p-value小于设定门槛，如5%，则拒绝假设。\n",
    "*单侧假设和双侧假设*：检验的是样本所取自的总体的参数值大于或小于某个特定值，为单侧检测；当检测目标仅仅为样本的平均数或者总体平均数时，为双侧检测。单侧检测的概率通常为双侧检测的一半  \n",
    "* z统计量与t统计量   \n",
    "*z统计量*：（样本均值减去实际均值（或者我们假设的均值））/抽样分布的标准差（当样本容量充分时，等于总体标准差除以样本容量的平方根）；在样本容量足够大时（大于30），可将上式总体标准差用样本标准差取代；此时该值为z统计量（注意自由度的定义）    \n",
    "*t统计量*：当抽样容量不足时，采用同样的计算公式，但此时分布满足t分布，需查询t表格  \n",
    "* 第一型错误：拒绝零假设（即使零假设是正确的）   \n",
    "* 随机变量之差的方差等于各个随机变量的方差之和（随机变量之和的方差同样等于各个随机变量的方差之和）；此外，随机变量之差的均值等于均值之差  \n",
    "* 样本均值之差的分布：随机变量$X$的抽样容量为$n$，随机变量$Y$的抽样容量为$m$，则样本均值之差的均值$$\\mu_{\\overline{X}-\\overline{Y}} = \\mu_\\overline{X}- \\mu_\\overline{Y} $$  \n",
    "方差$$\\sigma_{\\overline{X}-\\overline{Y}}^2 = \\sigma_\\overline{X}^2+ \\sigma_\\overline{Y}^2 =  \\frac{\\sigma_{X}^2}{n}+ \\frac{\\sigma_{Y}^2}{m}  $$"
   ]
  }
 ],
 "metadata": {
  "kernelspec": {
   "display_name": "Python 3",
   "language": "python",
   "name": "python3"
  },
  "language_info": {
   "codemirror_mode": {
    "name": "ipython",
    "version": 3
   },
   "file_extension": ".py",
   "mimetype": "text/x-python",
   "name": "python",
   "nbconvert_exporter": "python",
   "pygments_lexer": "ipython3",
   "version": "3.7.3"
  },
  "varInspector": {
   "cols": {
    "lenName": 16,
    "lenType": 16,
    "lenVar": 40
   },
   "kernels_config": {
    "python": {
     "delete_cmd_postfix": "",
     "delete_cmd_prefix": "del ",
     "library": "var_list.py",
     "varRefreshCmd": "print(var_dic_list())"
    },
    "r": {
     "delete_cmd_postfix": ") ",
     "delete_cmd_prefix": "rm(",
     "library": "var_list.r",
     "varRefreshCmd": "cat(var_dic_list()) "
    }
   },
   "types_to_exclude": [
    "module",
    "function",
    "builtin_function_or_method",
    "instance",
    "_Feature"
   ],
   "window_display": false
  }
 },
 "nbformat": 4,
 "nbformat_minor": 2
}
