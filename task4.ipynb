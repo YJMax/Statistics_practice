{
 "cells": [
  {
   "cell_type": "markdown",
   "metadata": {},
   "source": [
    "**线性回归：**  \n",
    "* 散点数组的平方误差：   \n",
    "一个简单的线性模型： $$ y = mx +b$$ \n",
    "散点坐标组：$$(x_1,y_1),(x_2,y_2)...,(x_n,y_n)$$  \n",
    "直线的平方误差：$$SE_{line} = (y_1-(mx_1+b))^2 + (y_2-(mx_2+b))^2 + ... + (y_n-(mx_n+b))^2 $$ \n",
    "最佳拟合曲线求就是最小化$SE_{line}$   \n",
    "首先,可将直线平方误差公式化简为$$ SE_{line} = n \\overline{y^2} - 2n\\overline{y}b + n\\overline{x^2}m^2+ 2n\\overline{x}mb+ nb^2$$   \n",
    "最小值满足条件 $$ \\frac{\\partial{SE_{line}}}{\\partial m} = 0， \\quad \\frac{\\partial{SE_{line}}}{\\partial b} =0 $$  \n",
    "得到 $$ m = \\frac{\\overline{y}\\overline{y}-\\overline{xy}}{(\\overline{x})^2-\\overline{x^2}}$$  $$ b=\\overline{y}-m\\overline{x}$$   \n",
    "* 决定系数$R^2$：   \n",
    "y值总波动： $$ SE_{\\overline{y}} = (y_1 -\\overline{y})^2 + (y_2 -\\overline{y})^2 + ...+(y_n -\\overline{y})^2   $$   \n",
    "总波动中有多少没有被回归线所描述：   $$ \\frac{SE_{line}}{SE_{\\overline{y}}} $$  \n",
    "决定系数$R^2$：$$ R^2 = 1 -  \\frac{SE_{line}}{SE_{\\overline{y}}} $$  \n",
    "结论： $SE_{line}$越小，回归线对数据点的拟合越好，此时决定系数$R^2$接近1，也说明y值的波动很多都被x的波动成功描述\n",
    "* 协方差和回归线：  \n",
    "两个随机变量之间的协方差，即是两随机变量离各自均值距离之积的期望值 $$ Cov(X,Y) = E[(X-E[X])(Y-E[Y])] = E[XY]-E[XE[Y]]-E[E[X]Y] + E[E[X]E[Y]] \\\\=E[XY]-E[Y]E[X]-E[X]E[Y]+E[X]E[Y] =E[XY]-E[X]E[Y]\\\\ = \\overline{XY}-\\overline{X}\\overline{Y} $$   \n",
    "** $\\chi ^2$分布和方差分析**  \n",
    "* $\\chi ^2$分布：k个独立的标准正态分布变量的平方和服从自由度为k的卡方分布，记为$Q\\sim\\chi_k^2$  \n",
    "* 皮尔森卡方检验:可用于两种情境的变项比较：适配度检验和独立性检验。  \n",
    "  “适配度检验”验证一组观察值的次数分配是否异于理论上的分配。  \n",
    "  “独立性检验”验证从两个变量抽出的配对观察值组是否互相独立。   \n",
    "  步骤：  \n",
    "1.计算卡方检验的统计值$ \\chi ^{2}$：把每一个观察值和理论值的差做平方后、除以理论值、再加总。  \n",
    "2.计算$\\chi ^{2}$统计值的自由度$df$。  \n",
    "3.依据研究者设定的置信水平（显著性水平、P值或对应Alpah值），查出自由度为$df$的卡方分配临界值，比较它与第1步骤得出的$\\chi ^{2}$ 统计值，推论能否拒绝零假设。  \n",
    "* 组内平方和+组件平方和 = 总平方和，同样，数据波动、自由度也符合“组内量+组间量=总量”描述规律   \n",
    "* F统计量：组间平方和与组间自由度之商，除以组内平方和与组内自由度之商 $$ F-statistic = \\frac{\\frac{SSB}{m-1}}{\\frac{SSW}{m(n-1)}}$$"
   ]
  },
  {
   "cell_type": "code",
   "execution_count": null,
   "metadata": {},
   "outputs": [],
   "source": []
  }
 ],
 "metadata": {
  "kernelspec": {
   "display_name": "Python 3",
   "language": "python",
   "name": "python3"
  },
  "language_info": {
   "codemirror_mode": {
    "name": "ipython",
    "version": 3
   },
   "file_extension": ".py",
   "mimetype": "text/x-python",
   "name": "python",
   "nbconvert_exporter": "python",
   "pygments_lexer": "ipython3",
   "version": "3.7.3"
  },
  "varInspector": {
   "cols": {
    "lenName": 16,
    "lenType": 16,
    "lenVar": 40
   },
   "kernels_config": {
    "python": {
     "delete_cmd_postfix": "",
     "delete_cmd_prefix": "del ",
     "library": "var_list.py",
     "varRefreshCmd": "print(var_dic_list())"
    },
    "r": {
     "delete_cmd_postfix": ") ",
     "delete_cmd_prefix": "rm(",
     "library": "var_list.r",
     "varRefreshCmd": "cat(var_dic_list()) "
    }
   },
   "types_to_exclude": [
    "module",
    "function",
    "builtin_function_or_method",
    "instance",
    "_Feature"
   ],
   "window_display": false
  }
 },
 "nbformat": 4,
 "nbformat_minor": 2
}
